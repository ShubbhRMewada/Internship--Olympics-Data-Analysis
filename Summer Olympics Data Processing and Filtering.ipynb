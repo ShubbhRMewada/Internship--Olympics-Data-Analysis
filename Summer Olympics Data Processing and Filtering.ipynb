{
 "cells": [
  {
   "cell_type": "markdown",
   "id": "1a2eabb4",
   "metadata": {},
   "source": [
    "<h1>Summer Olympics Data Analysis."
   ]
  },
  {
   "cell_type": "markdown",
   "id": "9c1a2104",
   "metadata": {},
   "source": [
    "<h2 style=\"color:blue\">Created by Shubbh Rajeshkumar Mewada.</h2>"
   ]
  },
  {
   "cell_type": "code",
   "execution_count": 1,
   "id": "0e10e09f",
   "metadata": {},
   "outputs": [],
   "source": [
    "import pandas as pd\n",
    "import numpy as np\n",
    "import matplotlib.pyplot as plt"
   ]
  },
  {
   "cell_type": "code",
   "execution_count": 2,
   "id": "29cf977d",
   "metadata": {},
   "outputs": [],
   "source": [
    "f = pd.read_csv('summer.csv')"
   ]
  },
  {
   "cell_type": "markdown",
   "id": "9f724ddf",
   "metadata": {},
   "source": [
    "<h1>"
   ]
  },
  {
   "cell_type": "markdown",
   "id": "16be8576",
   "metadata": {},
   "source": [
    "<h1>"
   ]
  },
  {
   "cell_type": "markdown",
   "id": "54c34037",
   "metadata": {},
   "source": [
    "\n",
    "\n",
    "<h3>1. In how many cities Summer Olympics is held so far?"
   ]
  },
  {
   "cell_type": "code",
   "execution_count": 3,
   "id": "84417477",
   "metadata": {},
   "outputs": [
    {
     "name": "stdout",
     "output_type": "stream",
     "text": [
      "\n",
      "There are 22 cities in total.\n",
      "\n",
      "Cities where Summer Olympics was held:\n",
      "\t-> Athens\n",
      "\t-> Paris\n",
      "\t-> St Louis\n",
      "\t-> London\n",
      "\t-> Stockholm\n",
      "\t-> Antwerp\n",
      "\t-> Amsterdam\n",
      "\t-> Los Angeles\n",
      "\t-> Berlin\n",
      "\t-> Helsinki\n",
      "\t-> Melbourne / Stockholm\n",
      "\t-> Rome\n",
      "\t-> Tokyo\n",
      "\t-> Mexico\n",
      "\t-> Munich\n",
      "\t-> Montreal\n",
      "\t-> Moscow\n",
      "\t-> Seoul\n",
      "\t-> Barcelona\n",
      "\t-> Atlanta\n",
      "\t-> Sydney\n",
      "\t-> Beijing\n"
     ]
    }
   ],
   "source": [
    "l = f['City'].unique()\n",
    "print()\n",
    "print('There are',len(l),'cities in total.\\n')\n",
    "print('Cities where Summer Olympics was held:')\n",
    "for i in l:\n",
    "    print('\\t->',i)"
   ]
  },
  {
   "cell_type": "markdown",
   "id": "cd583962",
   "metadata": {},
   "source": [
    "<h1>"
   ]
  },
  {
   "cell_type": "markdown",
   "id": "420b97c5",
   "metadata": {},
   "source": [
    "<h1>"
   ]
  },
  {
   "cell_type": "markdown",
   "id": "6664cfc6",
   "metadata": {},
   "source": [
    "<h3>2. Which sport is having most number of Gold Medals so far? (TOP 5)"
   ]
  },
  {
   "cell_type": "code",
   "execution_count": 4,
   "id": "d82edeb3",
   "metadata": {},
   "outputs": [],
   "source": [
    "gold = f[f['Medal']=='Gold']\n",
    "medals_per_city = gold.groupby('Sport')['Medal'].count().sort_values(ascending = False).reset_index(name = 'Medal Count')\n"
   ]
  },
  {
   "cell_type": "markdown",
   "id": "57b6566b",
   "metadata": {},
   "source": [
    "<h3>DATA FRAME"
   ]
  },
  {
   "cell_type": "code",
   "execution_count": 5,
   "id": "1fb76e94",
   "metadata": {},
   "outputs": [
    {
     "data": {
      "text/html": [
       "<div>\n",
       "<style scoped>\n",
       "    .dataframe tbody tr th:only-of-type {\n",
       "        vertical-align: middle;\n",
       "    }\n",
       "\n",
       "    .dataframe tbody tr th {\n",
       "        vertical-align: top;\n",
       "    }\n",
       "\n",
       "    .dataframe thead th {\n",
       "        text-align: right;\n",
       "    }\n",
       "</style>\n",
       "<table border=\"1\" class=\"dataframe\">\n",
       "  <thead>\n",
       "    <tr style=\"text-align: right;\">\n",
       "      <th></th>\n",
       "      <th>Sport</th>\n",
       "      <th>Medal Count</th>\n",
       "    </tr>\n",
       "  </thead>\n",
       "  <tbody>\n",
       "    <tr>\n",
       "      <th>0</th>\n",
       "      <td>Aquatics</td>\n",
       "      <td>1421</td>\n",
       "    </tr>\n",
       "    <tr>\n",
       "      <th>1</th>\n",
       "      <td>Athletics</td>\n",
       "      <td>1215</td>\n",
       "    </tr>\n",
       "    <tr>\n",
       "      <th>2</th>\n",
       "      <td>Rowing</td>\n",
       "      <td>890</td>\n",
       "    </tr>\n",
       "    <tr>\n",
       "      <th>3</th>\n",
       "      <td>Gymnastics</td>\n",
       "      <td>820</td>\n",
       "    </tr>\n",
       "    <tr>\n",
       "      <th>4</th>\n",
       "      <td>Fencing</td>\n",
       "      <td>552</td>\n",
       "    </tr>\n",
       "  </tbody>\n",
       "</table>\n",
       "</div>"
      ],
      "text/plain": [
       "        Sport  Medal Count\n",
       "0    Aquatics         1421\n",
       "1   Athletics         1215\n",
       "2      Rowing          890\n",
       "3  Gymnastics          820\n",
       "4     Fencing          552"
      ]
     },
     "execution_count": 5,
     "metadata": {},
     "output_type": "execute_result"
    }
   ],
   "source": [
    "medals_per_city.head()"
   ]
  },
  {
   "cell_type": "markdown",
   "id": "a76d255e",
   "metadata": {},
   "source": [
    "<h3>GRAPH"
   ]
  },
  {
   "cell_type": "code",
   "execution_count": 6,
   "id": "3b536a52",
   "metadata": {},
   "outputs": [
    {
     "data": {
      "text/plain": [
       "<AxesSubplot:xlabel='Sport'>"
      ]
     },
     "execution_count": 6,
     "metadata": {},
     "output_type": "execute_result"
    },
    {
     "data": {
      "image/png": "[encoded data removed]",
      "text/plain": [
       "<Figure size 360x360 with 1 Axes>"
      ]
     },
     "metadata": {
      "needs_background": "light"
     },
     "output_type": "display_data"
    }
   ],
   "source": [
    "medals_per_city.head().plot.bar(x='Sport',y='Medal Count',rot=0, figsize=(5,5))"
   ]
  },
  {
   "cell_type": "markdown",
   "id": "ab8e6dba",
   "metadata": {},
   "source": [
    "<h1>"
   ]
  },
  {
   "cell_type": "markdown",
   "id": "2f7884f5",
   "metadata": {},
   "source": [
    "<h1>"
   ]
  },
  {
   "cell_type": "markdown",
   "id": "85033a99",
   "metadata": {},
   "source": [
    "<h3>3. Which sport is having most number of medals so far? (TOP 5)"
   ]
  },
  {
   "cell_type": "code",
   "execution_count": 7,
   "id": "e62e3c1d",
   "metadata": {},
   "outputs": [],
   "source": [
    "medals_per_sport = f.groupby('Sport')['Medal'].count().sort_values(ascending = False).reset_index(name = 'Medal Count')\n"
   ]
  },
  {
   "cell_type": "markdown",
   "id": "22072057",
   "metadata": {},
   "source": [
    "<h3>DATA FRAME"
   ]
  },
  {
   "cell_type": "code",
   "execution_count": 8,
   "id": "b282e5e8",
   "metadata": {},
   "outputs": [
    {
     "data": {
      "text/html": [
       "<div>\n",
       "<style scoped>\n",
       "    .dataframe tbody tr th:only-of-type {\n",
       "        vertical-align: middle;\n",
       "    }\n",
       "\n",
       "    .dataframe tbody tr th {\n",
       "        vertical-align: top;\n",
       "    }\n",
       "\n",
       "    .dataframe thead th {\n",
       "        text-align: right;\n",
       "    }\n",
       "</style>\n",
       "<table border=\"1\" class=\"dataframe\">\n",
       "  <thead>\n",
       "    <tr style=\"text-align: right;\">\n",
       "      <th></th>\n",
       "      <th>Sport</th>\n",
       "      <th>Medal Count</th>\n",
       "    </tr>\n",
       "  </thead>\n",
       "  <tbody>\n",
       "    <tr>\n",
       "      <th>0</th>\n",
       "      <td>Aquatics</td>\n",
       "      <td>4170</td>\n",
       "    </tr>\n",
       "    <tr>\n",
       "      <th>1</th>\n",
       "      <td>Athletics</td>\n",
       "      <td>3638</td>\n",
       "    </tr>\n",
       "    <tr>\n",
       "      <th>2</th>\n",
       "      <td>Rowing</td>\n",
       "      <td>2667</td>\n",
       "    </tr>\n",
       "    <tr>\n",
       "      <th>3</th>\n",
       "      <td>Gymnastics</td>\n",
       "      <td>2307</td>\n",
       "    </tr>\n",
       "    <tr>\n",
       "      <th>4</th>\n",
       "      <td>Fencing</td>\n",
       "      <td>1613</td>\n",
       "    </tr>\n",
       "  </tbody>\n",
       "</table>\n",
       "</div>"
      ],
      "text/plain": [
       "        Sport  Medal Count\n",
       "0    Aquatics         4170\n",
       "1   Athletics         3638\n",
       "2      Rowing         2667\n",
       "3  Gymnastics         2307\n",
       "4     Fencing         1613"
      ]
     },
     "execution_count": 8,
     "metadata": {},
     "output_type": "execute_result"
    }
   ],
   "source": [
    "medals_per_sport.head()"
   ]
  },
  {
   "cell_type": "markdown",
   "id": "459d8189",
   "metadata": {},
   "source": [
    "<h3>GRAPH"
   ]
  },
  {
   "cell_type": "code",
   "execution_count": 9,
   "id": "db79d371",
   "metadata": {},
   "outputs": [
    {
     "data": {
      "text/plain": [
       "<AxesSubplot:xlabel='Sport'>"
      ]
     },
     "execution_count": 9,
     "metadata": {},
     "output_type": "execute_result"
    },
    {
     "data": {
      "image/png": "[encoded data removed]",
      "text/plain": [
       "<Figure size 360x360 with 1 Axes>"
      ]
     },
     "metadata": {
      "needs_background": "light"
     },
     "output_type": "display_data"
    }
   ],
   "source": [
    "medals_per_sport.head().plot.bar(x='Sport',y='Medal Count', rot =0, figsize= (5,5))"
   ]
  },
  {
   "cell_type": "markdown",
   "id": "25157e86",
   "metadata": {},
   "source": [
    "<h1>"
   ]
  },
  {
   "cell_type": "markdown",
   "id": "db038936",
   "metadata": {},
   "source": [
    "<h2 style=\"color:blue\">Created by Shubbh Rajeshkumar Mewada.</h2>"
   ]
  },
  {
   "cell_type": "markdown",
   "id": "7f72cf02",
   "metadata": {},
   "source": [
    "<h1>"
   ]
  },
  {
   "cell_type": "markdown",
   "id": "55388e87",
   "metadata": {},
   "source": [
    "<h3>4. Which player has won most number of medals? (TOP 5)"
   ]
  },
  {
   "cell_type": "code",
   "execution_count": 10,
   "id": "1cc3a0c2",
   "metadata": {},
   "outputs": [],
   "source": [
    "medals_per_player = f.groupby('Athlete')['Medal'].count().sort_values(ascending = False).reset_index(name = 'Medal Count')\n"
   ]
  },
  {
   "cell_type": "markdown",
   "id": "5bf8eee6",
   "metadata": {},
   "source": [
    "<h3>DATA FRAME"
   ]
  },
  {
   "cell_type": "code",
   "execution_count": 11,
   "id": "71324436",
   "metadata": {},
   "outputs": [
    {
     "data": {
      "text/html": [
       "<div>\n",
       "<style scoped>\n",
       "    .dataframe tbody tr th:only-of-type {\n",
       "        vertical-align: middle;\n",
       "    }\n",
       "\n",
       "    .dataframe tbody tr th {\n",
       "        vertical-align: top;\n",
       "    }\n",
       "\n",
       "    .dataframe thead th {\n",
       "        text-align: right;\n",
       "    }\n",
       "</style>\n",
       "<table border=\"1\" class=\"dataframe\">\n",
       "  <thead>\n",
       "    <tr style=\"text-align: right;\">\n",
       "      <th></th>\n",
       "      <th>Athlete</th>\n",
       "      <th>Medal Count</th>\n",
       "    </tr>\n",
       "  </thead>\n",
       "  <tbody>\n",
       "    <tr>\n",
       "      <th>0</th>\n",
       "      <td>PHELPS, Michael</td>\n",
       "      <td>22</td>\n",
       "    </tr>\n",
       "    <tr>\n",
       "      <th>1</th>\n",
       "      <td>LATYNINA, Larisa</td>\n",
       "      <td>18</td>\n",
       "    </tr>\n",
       "    <tr>\n",
       "      <th>2</th>\n",
       "      <td>ANDRIANOV, Nikolay</td>\n",
       "      <td>15</td>\n",
       "    </tr>\n",
       "    <tr>\n",
       "      <th>3</th>\n",
       "      <td>MANGIAROTTI, Edoardo</td>\n",
       "      <td>13</td>\n",
       "    </tr>\n",
       "    <tr>\n",
       "      <th>4</th>\n",
       "      <td>ONO, Takashi</td>\n",
       "      <td>13</td>\n",
       "    </tr>\n",
       "  </tbody>\n",
       "</table>\n",
       "</div>"
      ],
      "text/plain": [
       "                Athlete  Medal Count\n",
       "0       PHELPS, Michael           22\n",
       "1      LATYNINA, Larisa           18\n",
       "2    ANDRIANOV, Nikolay           15\n",
       "3  MANGIAROTTI, Edoardo           13\n",
       "4          ONO, Takashi           13"
      ]
     },
     "execution_count": 11,
     "metadata": {},
     "output_type": "execute_result"
    }
   ],
   "source": [
    "medals_per_player.head()"
   ]
  },
  {
   "cell_type": "markdown",
   "id": "f77f423a",
   "metadata": {},
   "source": [
    "<h3>GRAPH"
   ]
  },
  {
   "cell_type": "code",
   "execution_count": 12,
   "id": "7d3a2ed1",
   "metadata": {},
   "outputs": [
    {
     "data": {
      "text/plain": [
       "<AxesSubplot:xlabel='Athlete'>"
      ]
     },
     "execution_count": 12,
     "metadata": {},
     "output_type": "execute_result"
    },
    {
     "data": {
      "image/png": "[encoded data removed]",
      "text/plain": [
       "<Figure size 360x360 with 1 Axes>"
      ]
     },
     "metadata": {
      "needs_background": "light"
     },
     "output_type": "display_data"
    }
   ],
   "source": [
    "medals_per_player.head().plot.bar(x='Athlete', y='Medal Count', rot=20, figsize= (5,5))"
   ]
  },
  {
   "cell_type": "markdown",
   "id": "b97bd32f",
   "metadata": {},
   "source": [
    "<h1>"
   ]
  },
  {
   "cell_type": "markdown",
   "id": "afe1793a",
   "metadata": {},
   "source": [
    "<h1>"
   ]
  },
  {
   "cell_type": "markdown",
   "id": "f82239d1",
   "metadata": {},
   "source": [
    "<h3>5. Which player has won most number Gold Medals of medals? (TOP 5)"
   ]
  },
  {
   "cell_type": "code",
   "execution_count": 13,
   "id": "c52ed10f",
   "metadata": {},
   "outputs": [],
   "source": [
    "medals_per_player_gold = gold.groupby('Athlete')['Medal'].count().sort_values(ascending = False).reset_index(name = 'Medal Count')\n"
   ]
  },
  {
   "cell_type": "markdown",
   "id": "2e74b850",
   "metadata": {},
   "source": [
    "<h3>DATA FRAME"
   ]
  },
  {
   "cell_type": "code",
   "execution_count": 14,
   "id": "48d055a0",
   "metadata": {},
   "outputs": [
    {
     "data": {
      "text/html": [
       "<div>\n",
       "<style scoped>\n",
       "    .dataframe tbody tr th:only-of-type {\n",
       "        vertical-align: middle;\n",
       "    }\n",
       "\n",
       "    .dataframe tbody tr th {\n",
       "        vertical-align: top;\n",
       "    }\n",
       "\n",
       "    .dataframe thead th {\n",
       "        text-align: right;\n",
       "    }\n",
       "</style>\n",
       "<table border=\"1\" class=\"dataframe\">\n",
       "  <thead>\n",
       "    <tr style=\"text-align: right;\">\n",
       "      <th></th>\n",
       "      <th>Athlete</th>\n",
       "      <th>Medal Count</th>\n",
       "    </tr>\n",
       "  </thead>\n",
       "  <tbody>\n",
       "    <tr>\n",
       "      <th>0</th>\n",
       "      <td>PHELPS, Michael</td>\n",
       "      <td>18</td>\n",
       "    </tr>\n",
       "    <tr>\n",
       "      <th>1</th>\n",
       "      <td>LEWIS, Carl</td>\n",
       "      <td>9</td>\n",
       "    </tr>\n",
       "    <tr>\n",
       "      <th>2</th>\n",
       "      <td>NURMI, Paavo</td>\n",
       "      <td>9</td>\n",
       "    </tr>\n",
       "    <tr>\n",
       "      <th>3</th>\n",
       "      <td>SPITZ, Mark</td>\n",
       "      <td>9</td>\n",
       "    </tr>\n",
       "    <tr>\n",
       "      <th>4</th>\n",
       "      <td>LATYNINA, Larisa</td>\n",
       "      <td>9</td>\n",
       "    </tr>\n",
       "  </tbody>\n",
       "</table>\n",
       "</div>"
      ],
      "text/plain": [
       "            Athlete  Medal Count\n",
       "0   PHELPS, Michael           18\n",
       "1       LEWIS, Carl            9\n",
       "2      NURMI, Paavo            9\n",
       "3       SPITZ, Mark            9\n",
       "4  LATYNINA, Larisa            9"
      ]
     },
     "execution_count": 14,
     "metadata": {},
     "output_type": "execute_result"
    }
   ],
   "source": [
    "medals_per_player_gold.head()"
   ]
  },
  {
   "cell_type": "markdown",
   "id": "fb59fd1e",
   "metadata": {},
   "source": [
    "<h3>GRAPH"
   ]
  },
  {
   "cell_type": "code",
   "execution_count": 15,
   "id": "3487bb71",
   "metadata": {},
   "outputs": [
    {
     "data": {
      "text/plain": [
       "<AxesSubplot:xlabel='Athlete'>"
      ]
     },
     "execution_count": 15,
     "metadata": {},
     "output_type": "execute_result"
    },
    {
     "data": {
      "image/png": "[encoded data removed]",
      "text/plain": [
       "<Figure size 360x360 with 1 Axes>"
      ]
     },
     "metadata": {
      "needs_background": "light"
     },
     "output_type": "display_data"
    }
   ],
   "source": [
    "medals_per_player_gold.head().plot.bar(x='Athlete',y= 'Medal Count', figsize=(5,5), rot=20)"
   ]
  },
  {
   "cell_type": "markdown",
   "id": "396c5206",
   "metadata": {},
   "source": [
    "<h1>"
   ]
  },
  {
   "cell_type": "markdown",
   "id": "089b3d34",
   "metadata": {},
   "source": [
    "<h2 style=\"color:blue\">Created by Shubbh Rajeshkumar Mewada.</h2>"
   ]
  },
  {
   "cell_type": "markdown",
   "id": "0ad9f089",
   "metadata": {},
   "source": [
    "<h1>"
   ]
  },
  {
   "cell_type": "markdown",
   "id": "e09d8455",
   "metadata": {},
   "source": [
    "<h3>6. In which year India won first Gold Medal in Summer Olympics?"
   ]
  },
  {
   "cell_type": "code",
   "execution_count": 16,
   "id": "a237ad5f",
   "metadata": {},
   "outputs": [],
   "source": [
    "india_df = gold[gold['Country']=='IND']\n"
   ]
  },
  {
   "cell_type": "markdown",
   "id": "32fcc6e5",
   "metadata": {},
   "source": [
    "<h3>DATA FRAME"
   ]
  },
  {
   "cell_type": "code",
   "execution_count": 17,
   "id": "88e18ab1",
   "metadata": {},
   "outputs": [
    {
     "data": {
      "text/html": [
       "<div>\n",
       "<style scoped>\n",
       "    .dataframe tbody tr th:only-of-type {\n",
       "        vertical-align: middle;\n",
       "    }\n",
       "\n",
       "    .dataframe tbody tr th {\n",
       "        vertical-align: top;\n",
       "    }\n",
       "\n",
       "    .dataframe thead th {\n",
       "        text-align: right;\n",
       "    }\n",
       "</style>\n",
       "<table border=\"1\" class=\"dataframe\">\n",
       "  <thead>\n",
       "    <tr style=\"text-align: right;\">\n",
       "      <th></th>\n",
       "      <th>Year</th>\n",
       "      <th>City</th>\n",
       "      <th>Sport</th>\n",
       "      <th>Discipline</th>\n",
       "      <th>Athlete</th>\n",
       "      <th>Country</th>\n",
       "      <th>Gender</th>\n",
       "      <th>Event</th>\n",
       "      <th>Medal</th>\n",
       "    </tr>\n",
       "  </thead>\n",
       "  <tbody>\n",
       "    <tr>\n",
       "      <th>5512</th>\n",
       "      <td>1928</td>\n",
       "      <td>Amsterdam</td>\n",
       "      <td>Hockey</td>\n",
       "      <td>Hockey</td>\n",
       "      <td>ALLEN, Richard James</td>\n",
       "      <td>IND</td>\n",
       "      <td>Men</td>\n",
       "      <td>Hockey</td>\n",
       "      <td>Gold</td>\n",
       "    </tr>\n",
       "  </tbody>\n",
       "</table>\n",
       "</div>"
      ],
      "text/plain": [
       "      Year       City   Sport Discipline               Athlete Country Gender  \\\n",
       "5512  1928  Amsterdam  Hockey     Hockey  ALLEN, Richard James     IND    Men   \n",
       "\n",
       "       Event Medal  \n",
       "5512  Hockey  Gold  "
      ]
     },
     "execution_count": 17,
     "metadata": {},
     "output_type": "execute_result"
    }
   ],
   "source": [
    "india_df.head(1)\n"
   ]
  },
  {
   "cell_type": "markdown",
   "id": "e9a1a785",
   "metadata": {},
   "source": [
    "<h1>"
   ]
  },
  {
   "cell_type": "markdown",
   "id": "a037ebb6",
   "metadata": {},
   "source": [
    "<h1>"
   ]
  },
  {
   "cell_type": "markdown",
   "id": "8b9ce4bf",
   "metadata": {},
   "source": [
    "<h3>7. Which event is most popular in terms on number of players? (TOP 5)"
   ]
  },
  {
   "cell_type": "code",
   "execution_count": 18,
   "id": "15d4f570",
   "metadata": {},
   "outputs": [],
   "source": [
    "all_sports = list(f['Event'].unique())\n",
    "counts=[]\n",
    "for i in all_sports:\n",
    "    counts.append(f[f['Event'] == i].count()[0])\n",
    "    \n",
    "d={'Rank':[],'Sport':[]}\n",
    "for j in range(5):\n",
    "    num = counts.index(max(counts))\n",
    "    d['Rank'].append(j+1)\n",
    "    d['Sport'].append(all_sports[num])\n",
    "    counts.pop(num)\n",
    "    all_sports.pop(num)\n",
    "  \n",
    "popular = pd.DataFrame(d)\n"
   ]
  },
  {
   "cell_type": "markdown",
   "id": "93dac884",
   "metadata": {},
   "source": [
    "<h3>DATA FRAME"
   ]
  },
  {
   "cell_type": "code",
   "execution_count": 19,
   "id": "3ab9bacf",
   "metadata": {},
   "outputs": [
    {
     "data": {
      "text/html": [
       "<div>\n",
       "<style scoped>\n",
       "    .dataframe tbody tr th:only-of-type {\n",
       "        vertical-align: middle;\n",
       "    }\n",
       "\n",
       "    .dataframe tbody tr th {\n",
       "        vertical-align: top;\n",
       "    }\n",
       "\n",
       "    .dataframe thead th {\n",
       "        text-align: right;\n",
       "    }\n",
       "</style>\n",
       "<table border=\"1\" class=\"dataframe\">\n",
       "  <thead>\n",
       "    <tr style=\"text-align: right;\">\n",
       "      <th></th>\n",
       "      <th>Rank</th>\n",
       "      <th>Sport</th>\n",
       "    </tr>\n",
       "  </thead>\n",
       "  <tbody>\n",
       "    <tr>\n",
       "      <th>0</th>\n",
       "      <td>1</td>\n",
       "      <td>Football</td>\n",
       "    </tr>\n",
       "    <tr>\n",
       "      <th>1</th>\n",
       "      <td>2</td>\n",
       "      <td>Hockey</td>\n",
       "    </tr>\n",
       "    <tr>\n",
       "      <th>2</th>\n",
       "      <td>3</td>\n",
       "      <td>Team Competition</td>\n",
       "    </tr>\n",
       "    <tr>\n",
       "      <th>3</th>\n",
       "      <td>4</td>\n",
       "      <td>Basketball</td>\n",
       "    </tr>\n",
       "    <tr>\n",
       "      <th>4</th>\n",
       "      <td>5</td>\n",
       "      <td>Handball</td>\n",
       "    </tr>\n",
       "  </tbody>\n",
       "</table>\n",
       "</div>"
      ],
      "text/plain": [
       "   Rank             Sport\n",
       "0     1          Football\n",
       "1     2            Hockey\n",
       "2     3  Team Competition\n",
       "3     4        Basketball\n",
       "4     5          Handball"
      ]
     },
     "execution_count": 19,
     "metadata": {},
     "output_type": "execute_result"
    }
   ],
   "source": [
    "popular\n"
   ]
  },
  {
   "cell_type": "markdown",
   "id": "68a32754",
   "metadata": {},
   "source": [
    "<h3>GRAPH"
   ]
  },
  {
   "cell_type": "code",
   "execution_count": 20,
   "id": "2dc4b1a6",
   "metadata": {},
   "outputs": [
    {
     "data": {
      "text/plain": [
       "<AxesSubplot:xlabel='Sport'>"
      ]
     },
     "execution_count": 20,
     "metadata": {},
     "output_type": "execute_result"
    },
    {
     "data": {
      "image/png": "[encoded data removed]",
      "text/plain": [
       "<Figure size 360x360 with 1 Axes>"
      ]
     },
     "metadata": {
      "needs_background": "light"
     },
     "output_type": "display_data"
    }
   ],
   "source": [
    "popular.head().plot.bar(x='Sport',y='Rank',rot=20, figsize=(5,5))"
   ]
  },
  {
   "cell_type": "markdown",
   "id": "1775a56c",
   "metadata": {},
   "source": [
    "<h1>"
   ]
  },
  {
   "cell_type": "markdown",
   "id": "6f4fa164",
   "metadata": {},
   "source": [
    "<h1>"
   ]
  },
  {
   "cell_type": "markdown",
   "id": "40e803aa",
   "metadata": {},
   "source": [
    "<h3>8. Which sport is having most female Gold Medalists? (TOP 5)"
   ]
  },
  {
   "cell_type": "code",
   "execution_count": 21,
   "id": "c3623023",
   "metadata": {},
   "outputs": [],
   "source": [
    "female_df = gold[gold['Gender'] == 'Women']\n",
    "female_df = female_df.groupby('Sport').count()\n",
    "female_df = female_df.sort_values(by='Medal',ascending = False)\n",
    "del female_df['Year']\n",
    "del female_df['City']\n",
    "del female_df['Discipline']\n",
    "del female_df['Athlete']\n",
    "del female_df['Country']\n",
    "del female_df['Gender']\n",
    "del female_df['Event']\n"
   ]
  },
  {
   "cell_type": "markdown",
   "id": "6011f1dc",
   "metadata": {},
   "source": [
    "<h3>DATA FRAME"
   ]
  },
  {
   "cell_type": "code",
   "execution_count": 22,
   "id": "513a0053",
   "metadata": {},
   "outputs": [
    {
     "data": {
      "text/html": [
       "<div>\n",
       "<style scoped>\n",
       "    .dataframe tbody tr th:only-of-type {\n",
       "        vertical-align: middle;\n",
       "    }\n",
       "\n",
       "    .dataframe tbody tr th {\n",
       "        vertical-align: top;\n",
       "    }\n",
       "\n",
       "    .dataframe thead th {\n",
       "        text-align: right;\n",
       "    }\n",
       "</style>\n",
       "<table border=\"1\" class=\"dataframe\">\n",
       "  <thead>\n",
       "    <tr style=\"text-align: right;\">\n",
       "      <th></th>\n",
       "      <th>Medal</th>\n",
       "    </tr>\n",
       "    <tr>\n",
       "      <th>Sport</th>\n",
       "      <th></th>\n",
       "    </tr>\n",
       "  </thead>\n",
       "  <tbody>\n",
       "    <tr>\n",
       "      <th>Aquatics</th>\n",
       "      <td>589</td>\n",
       "    </tr>\n",
       "    <tr>\n",
       "      <th>Athletics</th>\n",
       "      <td>389</td>\n",
       "    </tr>\n",
       "    <tr>\n",
       "      <th>Gymnastics</th>\n",
       "      <td>268</td>\n",
       "    </tr>\n",
       "    <tr>\n",
       "      <th>Rowing</th>\n",
       "      <td>217</td>\n",
       "    </tr>\n",
       "    <tr>\n",
       "      <th>Volleyball</th>\n",
       "      <td>166</td>\n",
       "    </tr>\n",
       "  </tbody>\n",
       "</table>\n",
       "</div>"
      ],
      "text/plain": [
       "            Medal\n",
       "Sport            \n",
       "Aquatics      589\n",
       "Athletics     389\n",
       "Gymnastics    268\n",
       "Rowing        217\n",
       "Volleyball    166"
      ]
     },
     "execution_count": 22,
     "metadata": {},
     "output_type": "execute_result"
    }
   ],
   "source": [
    "female_df.head()"
   ]
  },
  {
   "cell_type": "markdown",
   "id": "2e6e1f5b",
   "metadata": {},
   "source": [
    "<h3>GRAPH"
   ]
  },
  {
   "cell_type": "code",
   "execution_count": 23,
   "id": "7da644c5",
   "metadata": {},
   "outputs": [
    {
     "data": {
      "text/plain": [
       "<AxesSubplot:xlabel='Sport'>"
      ]
     },
     "execution_count": 23,
     "metadata": {},
     "output_type": "execute_result"
    },
    {
     "data": {
      "image/png": "[encoded data removed]",
      "text/plain": [
       "<Figure size 360x360 with 1 Axes>"
      ]
     },
     "metadata": {
      "needs_background": "light"
     },
     "output_type": "display_data"
    }
   ],
   "source": [
    "female_df.head().plot(kind = 'bar' , figsize = (5,5), rot=0)"
   ]
  },
  {
   "cell_type": "markdown",
   "id": "a3a0ba56",
   "metadata": {},
   "source": [
    "<h2>"
   ]
  },
  {
   "cell_type": "markdown",
   "id": "c384ba6f",
   "metadata": {},
   "source": [
    "<h2 style=\"color:blue\">Created by Shubbh Rajeshkumar Mewada.</h2>"
   ]
  },
  {
   "cell_type": "markdown",
   "id": "22e39e06",
   "metadata": {},
   "source": [
    "<h1>"
   ]
  }
 ],
 "metadata": {
  "kernelspec": {
   "display_name": "Python 3",
   "language": "python",
   "name": "python3"
  },
  "language_info": {
   "codemirror_mode": {
    "name": "ipython",
    "version": 3
   },
   "file_extension": ".py",
   "mimetype": "text/x-python",
   "name": "python",
   "nbconvert_exporter": "python",
   "pygments_lexer": "ipython3",
   "version": "3.8.8"
  }
 },
 "nbformat": 4,
 "nbformat_minor": 5
}
